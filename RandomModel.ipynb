{
 "cells": [
  {
   "cell_type": "code",
   "execution_count": 33,
   "metadata": {},
   "outputs": [
    {
     "name": "stdout",
     "output_type": "stream",
     "text": [
      "Data loaded successfully.\n"
     ]
    }
   ],
   "source": [
    "#--------------------------------------------------------------------------------\n",
    "# Module 1: Import Libraries and Load Data\n",
    "#--------------------------------------------------------------------------------\n",
    "\n",
    "import pandas as pd\n",
    "import numpy as np\n",
    "import os\n",
    "\n",
    "# Load the cleaned dataset\n",
    "file_path = \"Cleaned data/RT.IRS_Clean_v2_RandomModel.csv\"\n",
    "data = pd.read_csv(file_path)\n",
    "\n",
    "print(\"Data loaded successfully.\")\n"
   ]
  },
  {
   "cell_type": "code",
   "execution_count": 34,
   "metadata": {},
   "outputs": [
    {
     "name": "stdout",
     "output_type": "stream",
     "text": [
      "Function for random sampling defined.\n"
     ]
    }
   ],
   "source": [
    "#--------------------------------------------------------------------------------\n",
    "# Module 2: Define Function to Randomly Sample Values\n",
    "#   1. Randomly samples values from each column of the dataframe.\n",
    "#   2. Returns a new DataFrame with randomly sampled values.\n",
    "#--------------------------------------------------------------------------------\n",
    "\n",
    "def random_sample_by_column(df, num_samples):\n",
    "  \n",
    "    sampled_data = pd.DataFrame()\n",
    "    for column in df.columns:\n",
    "        sampled_data[column] = np.random.choice(df[column], size=num_samples)\n",
    "    return sampled_data\n",
    "\n",
    "print(\"Function for random sampling defined.\")\n"
   ]
  },
  {
   "cell_type": "code",
   "execution_count": 35,
   "metadata": {},
   "outputs": [
    {
     "name": "stdout",
     "output_type": "stream",
     "text": [
      "New dataset generated with random samples.\n"
     ]
    }
   ],
   "source": [
    "#--------------------------------------------------------------------------------\n",
    "# Module 3: Generate New Dataset\n",
    "#--------------------------------------------------------------------------------\n",
    "\n",
    "# Define the number of samples you want to generate\n",
    "num_samples = 1000  # Update this number based on your requirement\n",
    "\n",
    "# Generate the new dataset\n",
    "new_data = random_sample_by_column(data, num_samples)\n",
    "\n",
    "print(\"New dataset generated with random samples.\")"
   ]
  },
  {
   "cell_type": "code",
   "execution_count": 36,
   "metadata": {},
   "outputs": [
    {
     "name": "stdout",
     "output_type": "stream",
     "text": [
      "New dataset reformatted to match the original data structure.\n"
     ]
    },
    {
     "name": "stderr",
     "output_type": "stream",
     "text": [
      "/var/folders/mg/_0j_111n661ccjxlkkzpn6xh0000gn/T/ipykernel_74373/1438757960.py:6: DtypeWarning: Columns (9,40,41,44,45,48) have mixed types. Specify dtype option on import or set low_memory=False.\n",
      "  original_data = pd.read_csv(\"Cleaned Data/RT.IRS_Clean_v2.csv\")\n"
     ]
    }
   ],
   "source": [
    "#--------------------------------------------------------------------------------\n",
    "# Module 4: Reformat Generated Dataset to Match Original Structure\n",
    "#--------------------------------------------------------------------------------\n",
    "\n",
    "#Import correct .csv format\n",
    "original_data = pd.read_csv(\"Cleaned Data/RT.IRS_Clean_v2.csv\")\n",
    "\n",
    "# Ensure all columns from the original data are present in the new dataset\n",
    "for col in original_data.columns:\n",
    "    if col not in new_data.columns:\n",
    "        new_data[col] = np.nan\n",
    "\n",
    "# Ensure the columns are in the same order as the original data\n",
    "new_data = new_data[original_data.columns]\n",
    "\n",
    "print(\"New dataset reformatted to match the original data structure.\")\n"
   ]
  },
  {
   "cell_type": "code",
   "execution_count": 37,
   "metadata": {},
   "outputs": [
    {
     "name": "stdout",
     "output_type": "stream",
     "text": [
      "Reformatted dataset saved to Synthesized data (RandomModel)/synthesized_data_RandomModel.csv\n"
     ]
    }
   ],
   "source": [
    "#--------------------------------------------------------------------------------\n",
    "# Module 5: Save the Reformatted Dataset to CSV\n",
    "#--------------------------------------------------------------------------------\n",
    "\n",
    "# Define the output file path for the reformatted dataset\n",
    "reformatted_data_file_path = \"Synthesized data (RandomModel)/synthesized_data_RandomModel.csv\"  # Update with your file path\n",
    "\n",
    "# Save the reformatted dataset to a CSV file\n",
    "new_data.to_csv(reformatted_data_file_path, index=False)\n",
    "\n",
    "print(\"Reformatted dataset saved to\", reformatted_data_file_path)\n"
   ]
  }
 ],
 "metadata": {
  "kernelspec": {
   "display_name": "Python 3",
   "language": "python",
   "name": "python3"
  },
  "language_info": {
   "codemirror_mode": {
    "name": "ipython",
    "version": 3
   },
   "file_extension": ".py",
   "mimetype": "text/x-python",
   "name": "python",
   "nbconvert_exporter": "python",
   "pygments_lexer": "ipython3",
   "version": "3.11.5"
  }
 },
 "nbformat": 4,
 "nbformat_minor": 2
}
