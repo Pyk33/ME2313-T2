{
 "cells": [
  {
   "cell_type": "code",
   "execution_count": 1,
   "metadata": {},
   "outputs": [
    {
     "name": "stderr",
     "output_type": "stream",
     "text": [
      "/var/folders/mg/_0j_111n661ccjxlkkzpn6xh0000gn/T/ipykernel_94712/2370635716.py:24: DtypeWarning: Columns (9,14,19,22,24,29,32,34,39,40,41,42,43,44,45,48,52,75,87,91,99,110,112,113,135,139,140,141,143,145,156,157) have mixed types. Specify dtype option on import or set low_memory=False.\n",
      "  data = pd.read_csv(input_file_path)\n"
     ]
    },
    {
     "name": "stdout",
     "output_type": "stream",
     "text": [
      "Data cleaned and saved to /Users/ollepyk/Documents/GitHub/ME2313-T2/Cleaned Data/RT.IRS_Clean.csv\n"
     ]
    }
   ],
   "source": [
    "#--------------------------------------------------------------------------------\n",
    "\n",
    "# Imports RT.IRS_data.csv and cleans it by removing all rows which does  not have \n",
    "# data in the \"Event\"-column. Further it removes all headers and corresponding \n",
    "# columns which is empty (no data).\n",
    "\n",
    "#--------------------------------------------------------------------------------\n",
    "\n",
    "import pandas as pd\n",
    "import os\n",
    "\n",
    "# Define file paths using relative paths\n",
    "input_file_path = \"Categorized Data/RT.IRS_Data.csv\"\n",
    "output_file_path = \"Cleaned Data/RT.IRS_Clean.csv\"\n",
    "\n",
    "# Get the current working directory\n",
    "current_directory = os.getcwd()\n",
    "\n",
    "# Construct absolute file paths\n",
    "input_file_path = os.path.join(current_directory, input_file_path)\n",
    "output_file_path = os.path.join(current_directory, output_file_path)\n",
    "\n",
    "# Load the CSV file into a pandas DataFrame\n",
    "data = pd.read_csv(input_file_path)\n",
    "\n",
    "# Remove rows where the \"Event\" column is empty\n",
    "data = data.dropna(subset=['Event'])\n",
    "\n",
    "# Remove columns where all values are NaN after removing empty rows\n",
    "data = data.dropna(axis=1, how='all')\n",
    "\n",
    "# Remove rows where \"Event\" column starts with two numbers\n",
    "data = data[~data['Event'].astype(str).str.match(r'^\\d{2}')]\n",
    "\n",
    "# Save the cleaned data to a new CSV file\n",
    "data.to_csv(output_file_path, index=False)\n",
    "\n",
    "print(\"Data cleaned and saved to\", output_file_path)\n",
    "\n"
   ]
  },
  {
   "cell_type": "code",
   "execution_count": 2,
   "metadata": {},
   "outputs": [
    {
     "name": "stdout",
     "output_type": "stream",
     "text": [
      "Data cleaned, sorted, and saved to /Users/ollepyk/Documents/GitHub/ME2313-T2/Cleaned Data/RT.IRS_Clean.csv\n"
     ]
    }
   ],
   "source": [
    "#--------------------------------------------------------------------------------\n",
    "\n",
    "# Sort the rows based on the \"Event\" column \n",
    "\n",
    "#--------------------------------------------------------------------------------\n",
    "\n",
    "# Sort the rows based on the \"Event\" column\n",
    "data = data.sort_values(by='Event')\n",
    "\n",
    "# Save the cleaned and sorted data to a new CSV file\n",
    "data.to_csv(output_file_path, index=False)\n",
    "\n",
    "print(\"Data cleaned, sorted, and saved to\", output_file_path)\n"
   ]
  }
 ],
 "metadata": {
  "kernelspec": {
   "display_name": "Python 3",
   "language": "python",
   "name": "python3"
  },
  "language_info": {
   "codemirror_mode": {
    "name": "ipython",
    "version": 3
   },
   "file_extension": ".py",
   "mimetype": "text/x-python",
   "name": "python",
   "nbconvert_exporter": "python",
   "pygments_lexer": "ipython3",
   "version": "3.11.5"
  },
  "orig_nbformat": 4
 },
 "nbformat": 4,
 "nbformat_minor": 2
}
