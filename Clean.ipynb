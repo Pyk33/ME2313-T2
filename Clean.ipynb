{
 "cells": [
  {
   "cell_type": "code",
   "execution_count": 8,
   "metadata": {},
   "outputs": [
    {
     "name": "stderr",
     "output_type": "stream",
     "text": [
      "/var/folders/mg/_0j_111n661ccjxlkkzpn6xh0000gn/T/ipykernel_15898/1600901644.py:22: DtypeWarning: Columns (9,14,19,22,24,29,32,34,39,40,41,42,43,44,45,48,52,75,87,91,99,110,112,113,135,139,140,141,143,145,156,157) have mixed types. Specify dtype option on import or set low_memory=False.\n",
      "  data = pd.read_csv(input_file_path)\n"
     ]
    },
    {
     "name": "stdout",
     "output_type": "stream",
     "text": [
      "Data cleaned and saved to /Users/ollepyk/Documents/GitHub/ME2313-T2/Cleaned Data/RT.IRS_Clean_v1.csv\n"
     ]
    }
   ],
   "source": [
    "#--------------------------------------------------------------------------------\n",
    "# Imports RT.IRS_data.csv and cleans it by removing all rows which does  not have \n",
    "# data in the \"Event\"-column. Further it removes all headers and corresponding \n",
    "# columns which is empty (no data).\n",
    "#--------------------------------------------------------------------------------\n",
    "\n",
    "import pandas as pd\n",
    "import os\n",
    "\n",
    "# Define file paths using relative paths\n",
    "input_file_path = \"Categorized Data/RT.IRS_Data.csv\"\n",
    "output_file_path = \"Cleaned Data/RT.IRS_Clean_v1.csv\"\n",
    "\n",
    "# Get the current working directory\n",
    "current_directory = os.getcwd()\n",
    "\n",
    "# Construct absolute file paths\n",
    "input_file_path = os.path.join(current_directory, input_file_path)\n",
    "output_file_path = os.path.join(current_directory, output_file_path)\n",
    "\n",
    "# Load the CSV file into a pandas DataFrame\n",
    "data = pd.read_csv(input_file_path)\n",
    "\n",
    "# Remove rows where the \"Event\" column is empty\n",
    "data = data.dropna(subset=['Event'])\n",
    "\n",
    "# Remove columns where all values are NaN after removing empty rows\n",
    "data = data.dropna(axis=1, how='all')\n",
    "\n",
    "# Remove rows where \"Event\" column starts with two numbers\n",
    "data = data[~data['Event'].astype(str).str.match(r'^\\d{2}')]\n",
    "\n",
    "# Save the cleaned data to a new CSV file\n",
    "data.to_csv(output_file_path, index=False)\n",
    "\n",
    "print(\"Data cleaned and saved to\", output_file_path)\n",
    "\n"
   ]
  },
  {
   "cell_type": "code",
   "execution_count": 9,
   "metadata": {},
   "outputs": [
    {
     "name": "stdout",
     "output_type": "stream",
     "text": [
      "Data cleaned, sorted, and saved to /Users/ollepyk/Documents/GitHub/ME2313-T2/Cleaned Data/RT.IRS_Clean_v1.csv\n"
     ]
    }
   ],
   "source": [
    "#--------------------------------------------------------------------------------\n",
    "# Sort the rows based on the \"Event\" column \n",
    "#--------------------------------------------------------------------------------\n",
    "\n",
    "# Sort the rows based on the \"Event\" column\n",
    "data = data.sort_values(by='Event')\n",
    "\n",
    "# Save the cleaned and sorted data to a new CSV file\n",
    "data.to_csv(output_file_path, index=False)\n",
    "\n",
    "print(\"Data cleaned, sorted, and saved to\", output_file_path)\n"
   ]
  },
  {
   "cell_type": "code",
   "execution_count": 15,
   "metadata": {},
   "outputs": [
    {
     "name": "stdout",
     "output_type": "stream",
     "text": [
      "Coverage for each column (columns with coverage less than 20% removed):\n",
      "                        Column    Coverage\n",
      "0                        Event  100.000000\n",
      "13               Maturity Date  100.000000\n",
      "47                      Rpt ID  100.000000\n",
      "46                 Asset Class  100.000000\n",
      "43              Option Premium  100.000000\n",
      "39         Option Strike Price  100.000000\n",
      "31   Leg 2 Designated Maturity  100.000000\n",
      "1          Execution Timestamp  100.000000\n",
      "24              Leg 1 Notional  100.000000\n",
      "23  Leg 1 Day Count Convention  100.000000\n",
      "21   Leg 1 Designated Maturity  100.000000\n",
      "17         Settlement Currency  100.000000\n",
      "14             Upfront Payment  100.000000\n",
      "25     Leg 1 Notional Currency  100.000000\n",
      "12              Effective Date  100.000000\n",
      "7           Block/Off facility  100.000000\n",
      "2           Dissemination Time  100.000000\n",
      "11               Contract Type  100.000000\n",
      "3                      Cleared  100.000000\n",
      "6                      Bespoke  100.000000\n",
      "10                     Product  100.000000\n",
      "29            Leg 2 Fixed Rate   99.978043\n",
      "19            Leg 1 Fixed Rate   99.974383\n",
      "32                Leg 2 Spread   99.952426\n",
      "22                Leg 1 Spread   99.952426\n",
      "34              Leg 2 Notional   99.923150\n",
      "49       Future Value Notional   98.503257\n",
      "8              Execution Venue   97.712801\n",
      "26     Leg 1 Payment Frequency   97.123619\n",
      "18                  Leg 1 Type   97.123619\n",
      "35     Leg 2 Notional Currency   96.995535\n",
      "28                  Leg 2 Type   96.995535\n",
      "36     Leg 2 Payment Frequency   96.995535\n",
      "33  Leg 2 Day Count Convention   96.995535\n",
      "4            Collateralization   96.779624\n",
      "37       Leg 2 Reset Frequency   92.519944\n",
      "27        Leg1 Reset Frequency   92.494328\n",
      "30        Leg 2 Floating Index   92.487009\n",
      "38             Embedded Option   19.186855\n",
      "20        Leg 1 Floating Index    7.578863\n",
      "50            Contract Subtype    4.391422\n",
      "16        Upfront Payment Date    3.890068\n",
      "15    Upfront Payment Currency    2.261582\n",
      "5           End-User Exception    1.010027\n",
      "9                          UPI    0.285442\n",
      "48                 Prev Rpt ID    0.285442\n",
      "40                 Option Type    0.179316\n",
      "41               Option Family    0.179316\n",
      "44       Option Lockout Period    0.179316\n",
      "45      Option Expiration Date    0.179316\n",
      "42             Option Currency    0.128083\n",
      "\n",
      "Removed columns:\n",
      "              Removed Column   Coverage\n",
      "1            Embedded Option  19.186855\n",
      "2       Leg 1 Floating Index   7.578863\n",
      "3           Contract Subtype   4.391422\n",
      "4       Upfront Payment Date   3.890068\n",
      "5   Upfront Payment Currency   2.261582\n",
      "6         End-User Exception   1.010027\n",
      "7                        UPI   0.285442\n",
      "8                Prev Rpt ID   0.285442\n",
      "9                Option Type   0.179316\n",
      "10             Option Family   0.179316\n",
      "11     Option Lockout Period   0.179316\n",
      "12    Option Expiration Date   0.179316\n",
      "13           Option Currency   0.128083\n",
      "Filtered data saved to Cleaned Data/RT.IRS_Clean_v2.csv\n"
     ]
    }
   ],
   "source": [
    "#--------------------------------------------------------------------------------\n",
    "# Check the coverage for all the columns in the CSV file and remove columns with coverage less than 20%\n",
    "#--------------------------------------------------------------------------------\n",
    "\n",
    "# Calculate the percentage of non-null values in each column\n",
    "coverage = (data.count() / len(data)) * 100\n",
    "\n",
    "# Create a DataFrame to store the coverage information\n",
    "coverage_df = pd.DataFrame({'Column': coverage.index, 'Coverage': coverage.values})\n",
    "\n",
    "# Sort the coverage DataFrame by coverage percentage in descending order\n",
    "coverage_df = coverage_df.sort_values(by='Coverage', ascending=False)\n",
    "\n",
    "# Remove columns with coverage less than 20%\n",
    "columns_to_keep = coverage_df[coverage_df['Coverage'] >= 20]['Column']\n",
    "removed_columns_df = coverage_df[coverage_df['Coverage'] < 20]\n",
    "\n",
    "# Store removed columns information in a separate DataFrame\n",
    "removed_columns_df = removed_columns_df.rename(columns={'Column': 'Removed Column', 'Coverage': 'Coverage'})\n",
    "removed_columns_df.index = range(1, len(removed_columns_df) + 1)\n",
    "\n",
    "filtered_data = data[columns_to_keep]\n",
    "\n",
    "# Save the cleaned and filtered data to a new CSV file in the Cleaned Data folder\n",
    "filtered_output_file_path = \"Cleaned Data/RT.IRS_Clean_v2.csv\"\n",
    "filtered_data.to_csv(filtered_output_file_path, index=False)\n",
    "\n",
    "# Print the coverage information\n",
    "print(\"Coverage for each column (columns with coverage less than 20% removed):\")\n",
    "print(coverage_df)\n",
    "\n",
    "# Print the list of removed columns in a formatted way\n",
    "if not removed_columns_df.empty:\n",
    "    print(\"\\nRemoved columns:\")\n",
    "    print(removed_columns_df)\n",
    "else:\n",
    "    print(\"\\nNo columns were removed.\")\n",
    "\n",
    "print(\"Filtered data saved to\", filtered_output_file_path)\n"
   ]
  }
 ],
 "metadata": {
  "kernelspec": {
   "display_name": "Python 3",
   "language": "python",
   "name": "python3"
  },
  "language_info": {
   "codemirror_mode": {
    "name": "ipython",
    "version": 3
   },
   "file_extension": ".py",
   "mimetype": "text/x-python",
   "name": "python",
   "nbconvert_exporter": "python",
   "pygments_lexer": "ipython3",
   "version": "3.11.5"
  },
  "orig_nbformat": 4
 },
 "nbformat": 4,
 "nbformat_minor": 2
}
